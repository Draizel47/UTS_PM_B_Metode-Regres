{
 "cells": [
  {
   "cell_type": "markdown",
   "id": "1e7a2c86",
   "metadata": {},
   "source": [
    "# Mengimpor Library"
   ]
  },
  {
   "cell_type": "code",
   "execution_count": 1,
   "id": "575be647",
   "metadata": {},
   "outputs": [],
   "source": [
    "# Import library pandas untuk manipulasi dan analisis data\n",
    "import pandas as pd\n",
    "# Import library numpy untuk operasi numerik\n",
    "import numpy as np\n",
    "# Import train_test_split dari sklearn untuk membagi dataset menjadi data pelatihan dan pengujian\n",
    "from sklearn.model_selection import train_test_split\n",
    "# Import LinearRegression dari sklearn untuk membuat model regresi linear\n",
    "from sklearn.linear_model import LinearRegression\n",
    "# Import mean_squared_error dari sklearn untuk mengukur performa model regresi\n",
    "from sklearn.metrics import mean_squared_error\n",
    "# Import matplotlib.pyplot dan seaborn untuk visualisasi data\n",
    "import matplotlib.pyplot as plt\n",
    "import seaborn as sns"
   ]
  },
  {
   "cell_type": "markdown",
   "id": "e62f8ede",
   "metadata": {},
   "source": [
    "# Membaca Data"
   ]
  },
  {
   "cell_type": "code",
   "execution_count": 2,
   "id": "39cb5459",
   "metadata": {},
   "outputs": [
    {
     "data": {
      "text/html": [
       "<div>\n",
       "<style scoped>\n",
       "    .dataframe tbody tr th:only-of-type {\n",
       "        vertical-align: middle;\n",
       "    }\n",
       "\n",
       "    .dataframe tbody tr th {\n",
       "        vertical-align: top;\n",
       "    }\n",
       "\n",
       "    .dataframe thead th {\n",
       "        text-align: right;\n",
       "    }\n",
       "</style>\n",
       "<table border=\"1\" class=\"dataframe\">\n",
       "  <thead>\n",
       "    <tr style=\"text-align: right;\">\n",
       "      <th></th>\n",
       "      <th>Corruption Perception (X)</th>\n",
       "      <th>Government Transparency (Y)</th>\n",
       "    </tr>\n",
       "  </thead>\n",
       "  <tbody>\n",
       "    <tr>\n",
       "      <th>0</th>\n",
       "      <td>3.2</td>\n",
       "      <td>65</td>\n",
       "    </tr>\n",
       "    <tr>\n",
       "      <th>1</th>\n",
       "      <td>2.5</td>\n",
       "      <td>72</td>\n",
       "    </tr>\n",
       "    <tr>\n",
       "      <th>2</th>\n",
       "      <td>4.1</td>\n",
       "      <td>58</td>\n",
       "    </tr>\n",
       "    <tr>\n",
       "      <th>3</th>\n",
       "      <td>2.8</td>\n",
       "      <td>68</td>\n",
       "    </tr>\n",
       "    <tr>\n",
       "      <th>4</th>\n",
       "      <td>3.5</td>\n",
       "      <td>60</td>\n",
       "    </tr>\n",
       "    <tr>\n",
       "      <th>5</th>\n",
       "      <td>2.4</td>\n",
       "      <td>75</td>\n",
       "    </tr>\n",
       "    <tr>\n",
       "      <th>6</th>\n",
       "      <td>3.9</td>\n",
       "      <td>55</td>\n",
       "    </tr>\n",
       "    <tr>\n",
       "      <th>7</th>\n",
       "      <td>2.7</td>\n",
       "      <td>70</td>\n",
       "    </tr>\n",
       "    <tr>\n",
       "      <th>8</th>\n",
       "      <td>3.8</td>\n",
       "      <td>57</td>\n",
       "    </tr>\n",
       "    <tr>\n",
       "      <th>9</th>\n",
       "      <td>2.9</td>\n",
       "      <td>71</td>\n",
       "    </tr>\n",
       "    <tr>\n",
       "      <th>10</th>\n",
       "      <td>4.2</td>\n",
       "      <td>54</td>\n",
       "    </tr>\n",
       "    <tr>\n",
       "      <th>11</th>\n",
       "      <td>2.6</td>\n",
       "      <td>73</td>\n",
       "    </tr>\n",
       "    <tr>\n",
       "      <th>12</th>\n",
       "      <td>3.0</td>\n",
       "      <td>65</td>\n",
       "    </tr>\n",
       "    <tr>\n",
       "      <th>13</th>\n",
       "      <td>2.3</td>\n",
       "      <td>76</td>\n",
       "    </tr>\n",
       "    <tr>\n",
       "      <th>14</th>\n",
       "      <td>4.0</td>\n",
       "      <td>56</td>\n",
       "    </tr>\n",
       "    <tr>\n",
       "      <th>15</th>\n",
       "      <td>3.4</td>\n",
       "      <td>62</td>\n",
       "    </tr>\n",
       "    <tr>\n",
       "      <th>16</th>\n",
       "      <td>2.2</td>\n",
       "      <td>78</td>\n",
       "    </tr>\n",
       "    <tr>\n",
       "      <th>17</th>\n",
       "      <td>4.3</td>\n",
       "      <td>53</td>\n",
       "    </tr>\n",
       "    <tr>\n",
       "      <th>18</th>\n",
       "      <td>3.3</td>\n",
       "      <td>63</td>\n",
       "    </tr>\n",
       "    <tr>\n",
       "      <th>19</th>\n",
       "      <td>2.1</td>\n",
       "      <td>80</td>\n",
       "    </tr>\n",
       "    <tr>\n",
       "      <th>20</th>\n",
       "      <td>4.4</td>\n",
       "      <td>52</td>\n",
       "    </tr>\n",
       "    <tr>\n",
       "      <th>21</th>\n",
       "      <td>3.7</td>\n",
       "      <td>59</td>\n",
       "    </tr>\n",
       "    <tr>\n",
       "      <th>22</th>\n",
       "      <td>2.0</td>\n",
       "      <td>82</td>\n",
       "    </tr>\n",
       "    <tr>\n",
       "      <th>23</th>\n",
       "      <td>4.5</td>\n",
       "      <td>51</td>\n",
       "    </tr>\n",
       "    <tr>\n",
       "      <th>24</th>\n",
       "      <td>3.6</td>\n",
       "      <td>61</td>\n",
       "    </tr>\n",
       "    <tr>\n",
       "      <th>25</th>\n",
       "      <td>2.8</td>\n",
       "      <td>69</td>\n",
       "    </tr>\n",
       "    <tr>\n",
       "      <th>26</th>\n",
       "      <td>4.2</td>\n",
       "      <td>55</td>\n",
       "    </tr>\n",
       "    <tr>\n",
       "      <th>27</th>\n",
       "      <td>3.1</td>\n",
       "      <td>66</td>\n",
       "    </tr>\n",
       "    <tr>\n",
       "      <th>28</th>\n",
       "      <td>2.7</td>\n",
       "      <td>72</td>\n",
       "    </tr>\n",
       "    <tr>\n",
       "      <th>29</th>\n",
       "      <td>4.3</td>\n",
       "      <td>54</td>\n",
       "    </tr>\n",
       "    <tr>\n",
       "      <th>30</th>\n",
       "      <td>3.9</td>\n",
       "      <td>57</td>\n",
       "    </tr>\n",
       "    <tr>\n",
       "      <th>31</th>\n",
       "      <td>2.5</td>\n",
       "      <td>70</td>\n",
       "    </tr>\n",
       "    <tr>\n",
       "      <th>32</th>\n",
       "      <td>4.4</td>\n",
       "      <td>53</td>\n",
       "    </tr>\n",
       "    <tr>\n",
       "      <th>33</th>\n",
       "      <td>3.0</td>\n",
       "      <td>65</td>\n",
       "    </tr>\n",
       "    <tr>\n",
       "      <th>34</th>\n",
       "      <td>2.6</td>\n",
       "      <td>73</td>\n",
       "    </tr>\n",
       "    <tr>\n",
       "      <th>35</th>\n",
       "      <td>4.1</td>\n",
       "      <td>58</td>\n",
       "    </tr>\n",
       "    <tr>\n",
       "      <th>36</th>\n",
       "      <td>3.2</td>\n",
       "      <td>68</td>\n",
       "    </tr>\n",
       "    <tr>\n",
       "      <th>37</th>\n",
       "      <td>2.4</td>\n",
       "      <td>75</td>\n",
       "    </tr>\n",
       "    <tr>\n",
       "      <th>38</th>\n",
       "      <td>4.5</td>\n",
       "      <td>51</td>\n",
       "    </tr>\n",
       "    <tr>\n",
       "      <th>39</th>\n",
       "      <td>3.5</td>\n",
       "      <td>60</td>\n",
       "    </tr>\n",
       "    <tr>\n",
       "      <th>40</th>\n",
       "      <td>2.9</td>\n",
       "      <td>71</td>\n",
       "    </tr>\n",
       "    <tr>\n",
       "      <th>41</th>\n",
       "      <td>3.8</td>\n",
       "      <td>56</td>\n",
       "    </tr>\n",
       "    <tr>\n",
       "      <th>42</th>\n",
       "      <td>2.3</td>\n",
       "      <td>76</td>\n",
       "    </tr>\n",
       "    <tr>\n",
       "      <th>43</th>\n",
       "      <td>4.0</td>\n",
       "      <td>52</td>\n",
       "    </tr>\n",
       "    <tr>\n",
       "      <th>44</th>\n",
       "      <td>3.4</td>\n",
       "      <td>62</td>\n",
       "    </tr>\n",
       "    <tr>\n",
       "      <th>45</th>\n",
       "      <td>2.2</td>\n",
       "      <td>78</td>\n",
       "    </tr>\n",
       "    <tr>\n",
       "      <th>46</th>\n",
       "      <td>4.4</td>\n",
       "      <td>53</td>\n",
       "    </tr>\n",
       "    <tr>\n",
       "      <th>47</th>\n",
       "      <td>3.3</td>\n",
       "      <td>63</td>\n",
       "    </tr>\n",
       "    <tr>\n",
       "      <th>48</th>\n",
       "      <td>2.1</td>\n",
       "      <td>80</td>\n",
       "    </tr>\n",
       "    <tr>\n",
       "      <th>49</th>\n",
       "      <td>4.3</td>\n",
       "      <td>54</td>\n",
       "    </tr>\n",
       "    <tr>\n",
       "      <th>50</th>\n",
       "      <td>3.7</td>\n",
       "      <td>59</td>\n",
       "    </tr>\n",
       "    <tr>\n",
       "      <th>51</th>\n",
       "      <td>2.0</td>\n",
       "      <td>82</td>\n",
       "    </tr>\n",
       "    <tr>\n",
       "      <th>52</th>\n",
       "      <td>4.5</td>\n",
       "      <td>61</td>\n",
       "    </tr>\n",
       "    <tr>\n",
       "      <th>53</th>\n",
       "      <td>3.6</td>\n",
       "      <td>69</td>\n",
       "    </tr>\n",
       "    <tr>\n",
       "      <th>54</th>\n",
       "      <td>2.8</td>\n",
       "      <td>50</td>\n",
       "    </tr>\n",
       "  </tbody>\n",
       "</table>\n",
       "</div>"
      ],
      "text/plain": [
       "    Corruption Perception (X)  Government Transparency (Y)\n",
       "0                         3.2                           65\n",
       "1                         2.5                           72\n",
       "2                         4.1                           58\n",
       "3                         2.8                           68\n",
       "4                         3.5                           60\n",
       "5                         2.4                           75\n",
       "6                         3.9                           55\n",
       "7                         2.7                           70\n",
       "8                         3.8                           57\n",
       "9                         2.9                           71\n",
       "10                        4.2                           54\n",
       "11                        2.6                           73\n",
       "12                        3.0                           65\n",
       "13                        2.3                           76\n",
       "14                        4.0                           56\n",
       "15                        3.4                           62\n",
       "16                        2.2                           78\n",
       "17                        4.3                           53\n",
       "18                        3.3                           63\n",
       "19                        2.1                           80\n",
       "20                        4.4                           52\n",
       "21                        3.7                           59\n",
       "22                        2.0                           82\n",
       "23                        4.5                           51\n",
       "24                        3.6                           61\n",
       "25                        2.8                           69\n",
       "26                        4.2                           55\n",
       "27                        3.1                           66\n",
       "28                        2.7                           72\n",
       "29                        4.3                           54\n",
       "30                        3.9                           57\n",
       "31                        2.5                           70\n",
       "32                        4.4                           53\n",
       "33                        3.0                           65\n",
       "34                        2.6                           73\n",
       "35                        4.1                           58\n",
       "36                        3.2                           68\n",
       "37                        2.4                           75\n",
       "38                        4.5                           51\n",
       "39                        3.5                           60\n",
       "40                        2.9                           71\n",
       "41                        3.8                           56\n",
       "42                        2.3                           76\n",
       "43                        4.0                           52\n",
       "44                        3.4                           62\n",
       "45                        2.2                           78\n",
       "46                        4.4                           53\n",
       "47                        3.3                           63\n",
       "48                        2.1                           80\n",
       "49                        4.3                           54\n",
       "50                        3.7                           59\n",
       "51                        2.0                           82\n",
       "52                        4.5                           61\n",
       "53                        3.6                           69\n",
       "54                        2.8                           50"
      ]
     },
     "execution_count": 2,
     "metadata": {},
     "output_type": "execute_result"
    }
   ],
   "source": [
    "data_korup = pd.read_csv('R04_corruptions.csv')\n",
    "data_korup"
   ]
  },
  {
   "cell_type": "code",
   "execution_count": 3,
   "id": "62a7feee",
   "metadata": {},
   "outputs": [
    {
     "name": "stdout",
     "output_type": "stream",
     "text": [
      "Dataset Overview:\n",
      "   Corruption Perception (X)  Government Transparency (Y)\n",
      "0                        3.2                           65\n",
      "1                        2.5                           72\n",
      "2                        4.1                           58\n",
      "3                        2.8                           68\n",
      "4                        3.5                           60\n",
      "\n",
      "Descriptive Statistics:\n",
      "       Corruption Perception (X)  Government Transparency (Y)\n",
      "count                  55.000000                    55.000000\n",
      "mean                    3.307273                    64.145455\n",
      "std                     0.784539                     9.314302\n",
      "min                     2.000000                    50.000000\n",
      "25%                     2.650000                    56.000000\n",
      "50%                     3.300000                    63.000000\n",
      "75%                     4.000000                    71.500000\n",
      "max                     4.500000                    82.000000\n"
     ]
    }
   ],
   "source": [
    "print(\"Dataset Overview:\")\n",
    "print(data_korup.head())\n",
    "print(\"\\nDescriptive Statistics:\")\n",
    "print(data_korup.describe())"
   ]
  },
  {
   "cell_type": "code",
   "execution_count": 4,
   "id": "738a53ae",
   "metadata": {},
   "outputs": [
    {
     "name": "stdout",
     "output_type": "stream",
     "text": [
      "\n",
      "Distribution of 'Corruption Perception (X)':\n",
      "2.8    3\n",
      "4.5    3\n",
      "4.4    3\n",
      "4.3    3\n",
      "3.2    2\n",
      "4.0    2\n",
      "3.6    2\n",
      "2.0    2\n",
      "3.7    2\n",
      "2.1    2\n",
      "3.3    2\n",
      "2.2    2\n",
      "3.4    2\n",
      "2.3    2\n",
      "2.5    2\n",
      "3.0    2\n",
      "2.6    2\n",
      "4.2    2\n",
      "2.9    2\n",
      "3.8    2\n",
      "2.7    2\n",
      "3.9    2\n",
      "2.4    2\n",
      "3.5    2\n",
      "4.1    2\n",
      "3.1    1\n",
      "Name: Corruption Perception (X), dtype: int64\n",
      "\n",
      "Distribution of 'Government Transparency (Y)':\n",
      "65    3\n",
      "54    3\n",
      "53    3\n",
      "62    2\n",
      "69    2\n",
      "61    2\n",
      "51    2\n",
      "82    2\n",
      "59    2\n",
      "52    2\n",
      "80    2\n",
      "63    2\n",
      "78    2\n",
      "56    2\n",
      "72    2\n",
      "76    2\n",
      "73    2\n",
      "71    2\n",
      "57    2\n",
      "70    2\n",
      "55    2\n",
      "75    2\n",
      "60    2\n",
      "68    2\n",
      "58    2\n",
      "66    1\n",
      "50    1\n",
      "Name: Government Transparency (Y), dtype: int64\n"
     ]
    }
   ],
   "source": [
    "print(\"\\nDistribution of 'Corruption Perception (X)':\")\n",
    "print(data_korup['Corruption Perception (X)'].value_counts())\n",
    "print(\"\\nDistribution of 'Government Transparency (Y)':\")\n",
    "print(data_korup['Government Transparency (Y)'].value_counts())"
   ]
  },
  {
   "cell_type": "markdown",
   "id": "907c7301",
   "metadata": {},
   "source": [
    "# Preprocessing Data"
   ]
  },
  {
   "cell_type": "code",
   "execution_count": 5,
   "id": "a76ccbee",
   "metadata": {},
   "outputs": [
    {
     "name": "stdout",
     "output_type": "stream",
     "text": [
      "\n",
      "Handling Missing Values:\n",
      "Number of Missing Values:\n",
      "Corruption Perception (X)      0\n",
      "Government Transparency (Y)    0\n",
      "dtype: int64\n"
     ]
    }
   ],
   "source": [
    "print(\"\\nHandling Missing Values:\")\n",
    "print(\"Number of Missing Values:\")\n",
    "print(data_korup.isnull().sum())\n",
    "data_korup.fillna(data_korup.mean(), inplace=True)"
   ]
  },
  {
   "cell_type": "code",
   "execution_count": 6,
   "id": "05cff016",
   "metadata": {},
   "outputs": [],
   "source": [
    "X = data_korup[['Corruption Perception (X)']]\n",
    "Y = data_korup['Government Transparency (Y)']"
   ]
  },
  {
   "cell_type": "markdown",
   "id": "088b2ca8",
   "metadata": {},
   "source": [
    "# Latih Data"
   ]
  },
  {
   "cell_type": "code",
   "execution_count": 7,
   "id": "07dceb36",
   "metadata": {},
   "outputs": [],
   "source": [
    "X_train, X_test, Y_train, Y_test = train_test_split(X, Y, test_size=0.2, random_state=0)"
   ]
  },
  {
   "cell_type": "code",
   "execution_count": 8,
   "id": "fcbf55c9",
   "metadata": {},
   "outputs": [
    {
     "data": {
      "text/plain": [
       "LinearRegression()"
      ]
     },
     "execution_count": 8,
     "metadata": {},
     "output_type": "execute_result"
    }
   ],
   "source": [
    "model_regresi = LinearRegression()\n",
    "model_regresi.fit(X_train, Y_train)"
   ]
  },
  {
   "cell_type": "code",
   "execution_count": 9,
   "id": "43c1b2de",
   "metadata": {},
   "outputs": [
    {
     "name": "stdout",
     "output_type": "stream",
     "text": [
      "99.94197593599009\n",
      "[-10.82303393]\n"
     ]
    }
   ],
   "source": [
    "print(model_regresi.intercept_)\n",
    "print(model_regresi.coef_)"
   ]
  },
  {
   "cell_type": "code",
   "execution_count": 10,
   "id": "5fe8434b",
   "metadata": {},
   "outputs": [
    {
     "data": {
      "text/plain": [
       "83.70742504099009"
      ]
     },
     "execution_count": 10,
     "metadata": {},
     "output_type": "execute_result"
    }
   ],
   "source": [
    "99.94197593599009 + -10.82303393 * 1.5"
   ]
  },
  {
   "cell_type": "code",
   "execution_count": 11,
   "id": "6da4a495",
   "metadata": {},
   "outputs": [],
   "source": [
    "Y_pred = model_regresi.predict(X_test)"
   ]
  },
  {
   "cell_type": "markdown",
   "id": "cfdfe4a1",
   "metadata": {},
   "source": [
    "# Evaluasi Data"
   ]
  },
  {
   "cell_type": "code",
   "execution_count": 12,
   "id": "a80d2c57",
   "metadata": {},
   "outputs": [
    {
     "name": "stdout",
     "output_type": "stream",
     "text": [
      "\n",
      "Model Evaluation:\n",
      "Mean Squared Error: 4.593681082998803\n"
     ]
    }
   ],
   "source": [
    "mse = mean_squared_error(Y_test, Y_pred)\n",
    "print('\\nModel Evaluation:')\n",
    "print('Mean Squared Error:', mse)"
   ]
  },
  {
   "cell_type": "code",
   "execution_count": 13,
   "id": "8cfbd4f1",
   "metadata": {},
   "outputs": [
    {
     "data": {
      "text/html": [
       "<div>\n",
       "<style scoped>\n",
       "    .dataframe tbody tr th:only-of-type {\n",
       "        vertical-align: middle;\n",
       "    }\n",
       "\n",
       "    .dataframe tbody tr th {\n",
       "        vertical-align: top;\n",
       "    }\n",
       "\n",
       "    .dataframe thead th {\n",
       "        text-align: right;\n",
       "    }\n",
       "</style>\n",
       "<table border=\"1\" class=\"dataframe\">\n",
       "  <thead>\n",
       "    <tr style=\"text-align: right;\">\n",
       "      <th></th>\n",
       "      <th>Data Real</th>\n",
       "      <th>Data Prediksi</th>\n",
       "    </tr>\n",
       "  </thead>\n",
       "  <tbody>\n",
       "    <tr>\n",
       "      <th>45</th>\n",
       "      <td>78</td>\n",
       "      <td>76.131301</td>\n",
       "    </tr>\n",
       "    <tr>\n",
       "      <th>33</th>\n",
       "      <td>65</td>\n",
       "      <td>67.472874</td>\n",
       "    </tr>\n",
       "    <tr>\n",
       "      <th>40</th>\n",
       "      <td>71</td>\n",
       "      <td>68.555178</td>\n",
       "    </tr>\n",
       "    <tr>\n",
       "      <th>26</th>\n",
       "      <td>55</td>\n",
       "      <td>54.485233</td>\n",
       "    </tr>\n",
       "    <tr>\n",
       "      <th>11</th>\n",
       "      <td>73</td>\n",
       "      <td>71.802088</td>\n",
       "    </tr>\n",
       "    <tr>\n",
       "      <th>2</th>\n",
       "      <td>58</td>\n",
       "      <td>55.567537</td>\n",
       "    </tr>\n",
       "    <tr>\n",
       "      <th>32</th>\n",
       "      <td>53</td>\n",
       "      <td>52.320627</td>\n",
       "    </tr>\n",
       "    <tr>\n",
       "      <th>43</th>\n",
       "      <td>52</td>\n",
       "      <td>56.649840</td>\n",
       "    </tr>\n",
       "    <tr>\n",
       "      <th>46</th>\n",
       "      <td>53</td>\n",
       "      <td>52.320627</td>\n",
       "    </tr>\n",
       "    <tr>\n",
       "      <th>30</th>\n",
       "      <td>57</td>\n",
       "      <td>57.732144</td>\n",
       "    </tr>\n",
       "    <tr>\n",
       "      <th>4</th>\n",
       "      <td>60</td>\n",
       "      <td>62.061357</td>\n",
       "    </tr>\n",
       "  </tbody>\n",
       "</table>\n",
       "</div>"
      ],
      "text/plain": [
       "    Data Real  Data Prediksi\n",
       "45         78      76.131301\n",
       "33         65      67.472874\n",
       "40         71      68.555178\n",
       "26         55      54.485233\n",
       "11         73      71.802088\n",
       "2          58      55.567537\n",
       "32         53      52.320627\n",
       "43         52      56.649840\n",
       "46         53      52.320627\n",
       "30         57      57.732144\n",
       "4          60      62.061357"
      ]
     },
     "execution_count": 13,
     "metadata": {},
     "output_type": "execute_result"
    }
   ],
   "source": [
    "dataframe = pd.DataFrame({'Data Real': Y_test, 'Data Prediksi': Y_pred})\n",
    "dataframe"
   ]
  },
  {
   "cell_type": "markdown",
   "id": "6d50deaf",
   "metadata": {},
   "source": [
    "# Visualisasi Data"
   ]
  },
  {
   "cell_type": "code",
   "execution_count": 14,
   "id": "eec1d29d",
   "metadata": {},
   "outputs": [
    {
     "data": {
      "text/plain": [
       "<seaborn.axisgrid.PairGrid at 0x2047ed5f700>"
      ]
     },
     "execution_count": 14,
     "metadata": {},
     "output_type": "execute_result"
    },
    {
     "data": {
      "image/png": "[encoded data removed]",
      "text/plain": [
       "<Figure size 500x500 with 6 Axes>"
      ]
     },
     "metadata": {},
     "output_type": "display_data"
    }
   ],
   "source": [
    "sns.pairplot(data_korup)"
   ]
  },
  {
   "cell_type": "code",
   "execution_count": 15,
   "id": "619ff92c",
   "metadata": {},
   "outputs": [
    {
     "data": {
      "image/png": "[encoded data removed]",
      "text/plain": [
       "<Figure size 1000x600 with 1 Axes>"
      ]
     },
     "metadata": {},
     "output_type": "display_data"
    }
   ],
   "source": [
    "plt.figure(figsize=(10, 6))\n",
    "plt.scatter(X_test, Y_test, color='gray', label='Data Aktual')\n",
    "plt.plot(X_test, Y_pred, color='red', linewidth=2, label='Garis Regresi')\n",
    "plt.title('Tabel Persepsi Korupsi vs Transparansi Pemerintah')\n",
    "plt.xlabel('Corruption Perception')\n",
    "plt.ylabel('Government Transparency')\n",
    "plt.legend()\n",
    "plt.show()"
   ]
  },
  {
   "cell_type": "code",
   "execution_count": null,
   "id": "496c40d4",
   "metadata": {},
   "outputs": [],
   "source": []
  }
 ],
 "metadata": {
  "kernelspec": {
   "display_name": "Python 3 (ipykernel)",
   "language": "python",
   "name": "python3"
  },
  "language_info": {
   "codemirror_mode": {
    "name": "ipython",
    "version": 3
   },
   "file_extension": ".py",
   "mimetype": "text/x-python",
   "name": "python",
   "nbconvert_exporter": "python",
   "pygments_lexer": "ipython3",
   "version": "3.9.13"
  }
 },
 "nbformat": 4,
 "nbformat_minor": 5
}
